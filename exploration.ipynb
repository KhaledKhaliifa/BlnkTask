{
 "cells": [
  {
   "cell_type": "markdown",
   "metadata": {},
   "source": [
    "# Importing libraries"
   ]
  },
  {
   "cell_type": "code",
   "execution_count": null,
   "metadata": {},
   "outputs": [],
   "source": [
    "import cv2\n",
    "import os\n",
    "import matplotlib.pyplot as plt\n",
    "from collections import defaultdict\n",
    "import pandas as pd\n",
    "import numpy as np\n",
    "from sklearn.preprocessing import LabelEncoder\n",
    "from keras.preprocessing.sequence import pad_sequences\n",
    "import numpy as np\n",
    "from tensorflow.keras.layers import (Input, Conv2D, MaxPool2D, BatchNormalization, Lambda, Dense, \n",
    "                                     Bidirectional, LSTM)\n",
    "from tensorflow.keras.models import Model\n",
    "from sklearn.model_selection import train_test_split\n",
    "from tensorflow.keras import backend as K\n",
    "from keras.callbacks import ModelCheckpoint, EarlyStopping, ReduceLROnPlateau, CSVLogger"
   ]
  },
  {
   "cell_type": "markdown",
   "metadata": {},
   "source": [
    "# Data exploration"
   ]
  },
  {
   "cell_type": "markdown",
   "metadata": {},
   "source": [
    "### Loading data"
   ]
  },
  {
   "cell_type": "code",
   "execution_count": 205,
   "metadata": {},
   "outputs": [],
   "source": [
    "# Path to the folder\n",
    "folder_path = \"Data\"\n",
    "\n",
    "# Get all .png, .jpeg, and .jpg files in the folder\n",
    "image_files = sorted([f for f in os.listdir(folder_path) if f.endswith(\".png\")])\n",
    "text_files = sorted([f for f in os.listdir(folder_path) if f.endswith(\".gt.txt\")])"
   ]
  },
  {
   "cell_type": "code",
   "execution_count": null,
   "metadata": {},
   "outputs": [
    {
     "name": "stdout",
     "output_type": "stream",
     "text": [
      "Loaded 3722 images with extensions .png, .jpeg, or .jpg.\n"
     ]
    }
   ],
   "source": [
    "total_intensities = defaultdict(int)\n",
    "\n",
    "# Load images\n",
    "images = []\n",
    "data_labels = []\n",
    "for index, file in enumerate(image_files):\n",
    "\n",
    "    image_path = os.path.join(folder_path, image_files[index])\n",
    "    text_path = os.path.join(folder_path, text_files[index]) \n",
    "\n",
    "    image = cv2.imread(image_path, cv2.IMREAD_GRAYSCALE)  # Load image using cv2\n",
    "\n",
    "    if image is not None:\n",
    "        images.append(image)\n",
    "        \n",
    "        # Append pixel intensities of the image\n",
    "        pixel_intensities = image.flatten()\n",
    "        for pixel in pixel_intensities:\n",
    "            total_intensities[pixel] += 1\n",
    "            \n",
    "    with open(text_path, \"r\") as text_file:\n",
    "        label = text_file.read()\n",
    "    data_labels.append(label)\n",
    "\n",
    "print(f\"Loaded {len(images)} images with extensions .png, .jpeg, or .jpg.\")\n"
   ]
  },
  {
   "cell_type": "code",
   "execution_count": 206,
   "metadata": {},
   "outputs": [
    {
     "name": "stdout",
     "output_type": "stream",
     "text": [
      "Longest label: 10\n"
     ]
    }
   ],
   "source": [
    "# Find the longest string\n",
    "longest_label = max(data_labels, key=len)\n",
    "max_label_length = len(longest_label)\n",
    "print(\"Longest label:\", max_label_length )\n"
   ]
  },
  {
   "cell_type": "code",
   "execution_count": 207,
   "metadata": {},
   "outputs": [],
   "source": [
    "# Convert the defaultdict to a standard dictionary\n",
    "pixel_intensity_dict = dict(total_intensities)\n",
    "\n",
    "# Prepare data for plotting\n",
    "intensities = list(pixel_intensity_dict.keys())\n",
    "frequencies = list(pixel_intensity_dict.values())"
   ]
  },
  {
   "cell_type": "code",
   "execution_count": 208,
   "metadata": {},
   "outputs": [
    {
     "data": {
      "image/png": "[encoded data removed]",
      "text/plain": [
       "<Figure size 1000x500 with 1 Axes>"
      ]
     },
     "metadata": {},
     "output_type": "display_data"
    }
   ],
   "source": [
    "# Plot the histogram\n",
    "plt.figure(figsize=(10, 5))\n",
    "plt.bar(intensities, frequencies, color='blue', width=1)\n",
    "plt.title(\"Histogram of Pixel Intensities\")\n",
    "plt.xlabel(\"Pixel Intensity\")\n",
    "plt.ylabel(\"Frequency\")\n",
    "plt.grid(axis='y', linestyle='--', alpha=0.7)\n",
    "plt.show()"
   ]
  },
  {
   "cell_type": "markdown",
   "metadata": {},
   "source": [
    "### Inspecting intensity values"
   ]
  },
  {
   "cell_type": "code",
   "execution_count": 209,
   "metadata": {},
   "outputs": [
    {
     "name": "stdout",
     "output_type": "stream",
     "text": [
      "Pixel Intensity: 0, Frequency: 1010106\n",
      "Pixel Intensity: 1, Frequency: 265757\n",
      "Pixel Intensity: 2, Frequency: 169230\n",
      "Pixel Intensity: 3, Frequency: 83830\n",
      "Pixel Intensity: 4, Frequency: 33193\n",
      "Pixel Intensity: 5, Frequency: 10731\n",
      "Pixel Intensity: 6, Frequency: 2767\n",
      "Pixel Intensity: 7, Frequency: 570\n",
      "Pixel Intensity: 8, Frequency: 105\n",
      "Pixel Intensity: 9, Frequency: 10\n",
      "Pixel Intensity: 10, Frequency: 1\n",
      "Pixel Intensity: 246, Frequency: 16\n",
      "Pixel Intensity: 247, Frequency: 124\n",
      "Pixel Intensity: 248, Frequency: 2592\n",
      "Pixel Intensity: 249, Frequency: 7120\n",
      "Pixel Intensity: 250, Frequency: 30539\n",
      "Pixel Intensity: 251, Frequency: 81490\n",
      "Pixel Intensity: 252, Frequency: 204683\n",
      "Pixel Intensity: 253, Frequency: 422029\n",
      "Pixel Intensity: 254, Frequency: 687780\n",
      "Pixel Intensity: 255, Frequency: 11597004\n"
     ]
    }
   ],
   "source": [
    "for intensity, frequency in sorted(total_intensities.items()):\n",
    "    print(f\"Pixel Intensity: {intensity}, Frequency: {frequency}\")"
   ]
  },
  {
   "cell_type": "markdown",
   "metadata": {},
   "source": [
    "# Preprocessing "
   ]
  },
  {
   "cell_type": "markdown",
   "metadata": {},
   "source": [
    "### We can assume everything with a value of 10 or below is black, and everything with a value of 246 and above is white"
   ]
  },
  {
   "cell_type": "code",
   "execution_count": 8,
   "metadata": {},
   "outputs": [],
   "source": [
    "for i in range(len(images)):\n",
    "    _, thresholded_image = cv2.threshold(images[i], 245, 255, cv2.THRESH_BINARY)\n",
    "    images[i] = thresholded_image \n"
   ]
  },
  {
   "cell_type": "code",
   "execution_count": 9,
   "metadata": {},
   "outputs": [],
   "source": [
    "total_intensities = defaultdict(int)\n",
    "for image in images:\n",
    "    pixel_intensities = image.flatten()\n",
    "    for pixel in pixel_intensities:\n",
    "        total_intensities[pixel] += 1"
   ]
  },
  {
   "cell_type": "markdown",
   "metadata": {},
   "source": [
    "### Normalizing by dividing /255 to only allow 0 and 1"
   ]
  },
  {
   "cell_type": "code",
   "execution_count": 154,
   "metadata": {},
   "outputs": [],
   "source": [
    "def normalize_image(image_list, target_size=(140, 40)):\n",
    "    images = np.array([np.expand_dims(cv2.resize(image, target_size), axis=-1) for image in image_list])\n",
    "    images = images / 255.0  # Normalize to [0, 1]\n",
    "    return images\n",
    "normalized_images = normalize_image(images)"
   ]
  },
  {
   "cell_type": "markdown",
   "metadata": {},
   "source": [
    "### Encoding labels and padding them to the maximum length [10]"
   ]
  },
  {
   "cell_type": "code",
   "execution_count": 210,
   "metadata": {},
   "outputs": [],
   "source": [
    "char_set = set(''.join(data_labels))\n",
    "char_encoder = LabelEncoder()\n",
    "char_encoder.fit(list(char_set))\n",
    "\n",
    "np.save('classes.npy', char_encoder.classes_)\n",
    "\n",
    "# Convert each label to a sequence of integers (character indices)\n",
    "encoded_labels = [char_encoder.transform(list(label)) for label in data_labels]\n",
    "padded_labels = pad_sequences(encoded_labels, padding='post', maxlen=10, value= len(char_set))"
   ]
  },
  {
   "cell_type": "markdown",
   "metadata": {},
   "source": [
    "# Preparing the dataframe"
   ]
  },
  {
   "cell_type": "code",
   "execution_count": 213,
   "metadata": {},
   "outputs": [],
   "source": [
    "df = pd.DataFrame(columns=[\"image\", \"label\", \"encoded_labels\", \"padded_labels\"], data=zip(normalized_images, data_labels, encoded_labels, padded_labels))\n",
    "df['input_length'] = 32\n",
    "df[\"label_length\"] = df[\"encoded_labels\"].apply(len)"
   ]
  },
  {
   "cell_type": "code",
   "execution_count": 214,
   "metadata": {},
   "outputs": [
    {
     "data": {
      "text/html": [
       "<div>\n",
       "<style scoped>\n",
       "    .dataframe tbody tr th:only-of-type {\n",
       "        vertical-align: middle;\n",
       "    }\n",
       "\n",
       "    .dataframe tbody tr th {\n",
       "        vertical-align: top;\n",
       "    }\n",
       "\n",
       "    .dataframe thead th {\n",
       "        text-align: right;\n",
       "    }\n",
       "</style>\n",
       "<table border=\"1\" class=\"dataframe\">\n",
       "  <thead>\n",
       "    <tr style=\"text-align: right;\">\n",
       "      <th></th>\n",
       "      <th>image</th>\n",
       "      <th>label</th>\n",
       "      <th>encoded_labels</th>\n",
       "      <th>padded_labels</th>\n",
       "      <th>input_length</th>\n",
       "      <th>label_length</th>\n",
       "    </tr>\n",
       "  </thead>\n",
       "  <tbody>\n",
       "    <tr>\n",
       "      <th>0</th>\n",
       "      <td>[[[1.0], [1.0], [1.0], [1.0], [1.0], [1.0], [1...</td>\n",
       "      <td>ءارسا</td>\n",
       "      <td>[1, 6, 15, 17, 6]</td>\n",
       "      <td>[1, 6, 15, 17, 6, 35, 35, 35, 35, 35]</td>\n",
       "      <td>32</td>\n",
       "      <td>5</td>\n",
       "    </tr>\n",
       "    <tr>\n",
       "      <th>1</th>\n",
       "      <td>[[[1.0], [1.0], [1.0], [1.0], [1.0], [1.0], [1...</td>\n",
       "      <td>فيرش</td>\n",
       "      <td>[25, 34, 15, 18]</td>\n",
       "      <td>[25, 34, 15, 18, 35, 35, 35, 35, 35, 35]</td>\n",
       "      <td>32</td>\n",
       "      <td>4</td>\n",
       "    </tr>\n",
       "    <tr>\n",
       "      <th>2</th>\n",
       "      <td>[[[1.0], [1.0], [1.0], [1.0], [1.0], [1.0], [1...</td>\n",
       "      <td>ءامسا</td>\n",
       "      <td>[1, 6, 29, 17, 6]</td>\n",
       "      <td>[1, 6, 29, 17, 6, 35, 35, 35, 35, 35]</td>\n",
       "      <td>32</td>\n",
       "      <td>5</td>\n",
       "    </tr>\n",
       "    <tr>\n",
       "      <th>3</th>\n",
       "      <td>[[[1.0], [1.0], [1.0], [1.0], [1.0], [1.0], [1...</td>\n",
       "      <td>مالسا</td>\n",
       "      <td>[29, 6, 28, 17, 6]</td>\n",
       "      <td>[29, 6, 28, 17, 6, 35, 35, 35, 35, 35]</td>\n",
       "      <td>32</td>\n",
       "      <td>5</td>\n",
       "    </tr>\n",
       "    <tr>\n",
       "      <th>4</th>\n",
       "      <td>[[[1.0], [1.0], [1.0], [1.0], [1.0], [1.0], [1...</td>\n",
       "      <td>رمع</td>\n",
       "      <td>[15, 29, 23]</td>\n",
       "      <td>[15, 29, 23, 35, 35, 35, 35, 35, 35, 35]</td>\n",
       "      <td>32</td>\n",
       "      <td>3</td>\n",
       "    </tr>\n",
       "  </tbody>\n",
       "</table>\n",
       "</div>"
      ],
      "text/plain": [
       "                                               image  label  \\\n",
       "0  [[[1.0], [1.0], [1.0], [1.0], [1.0], [1.0], [1...  ءارسا   \n",
       "1  [[[1.0], [1.0], [1.0], [1.0], [1.0], [1.0], [1...   فيرش   \n",
       "2  [[[1.0], [1.0], [1.0], [1.0], [1.0], [1.0], [1...  ءامسا   \n",
       "3  [[[1.0], [1.0], [1.0], [1.0], [1.0], [1.0], [1...  مالسا   \n",
       "4  [[[1.0], [1.0], [1.0], [1.0], [1.0], [1.0], [1...    رمع   \n",
       "\n",
       "       encoded_labels                             padded_labels  input_length  \\\n",
       "0   [1, 6, 15, 17, 6]     [1, 6, 15, 17, 6, 35, 35, 35, 35, 35]            32   \n",
       "1    [25, 34, 15, 18]  [25, 34, 15, 18, 35, 35, 35, 35, 35, 35]            32   \n",
       "2   [1, 6, 29, 17, 6]     [1, 6, 29, 17, 6, 35, 35, 35, 35, 35]            32   \n",
       "3  [29, 6, 28, 17, 6]    [29, 6, 28, 17, 6, 35, 35, 35, 35, 35]            32   \n",
       "4        [15, 29, 23]  [15, 29, 23, 35, 35, 35, 35, 35, 35, 35]            32   \n",
       "\n",
       "   label_length  \n",
       "0             5  \n",
       "1             4  \n",
       "2             5  \n",
       "3             5  \n",
       "4             3  "
      ]
     },
     "execution_count": 214,
     "metadata": {},
     "output_type": "execute_result"
    }
   ],
   "source": [
    "df.head(5)"
   ]
  },
  {
   "cell_type": "code",
   "execution_count": 216,
   "metadata": {},
   "outputs": [
    {
     "name": "stdout",
     "output_type": "stream",
     "text": [
      "image             0\n",
      "label             0\n",
      "encoded_labels    0\n",
      "padded_labels     0\n",
      "input_length      0\n",
      "label_length      0\n",
      "dtype: int64\n"
     ]
    }
   ],
   "source": [
    "# Inspecting the dataframe to make sure all values are present\n",
    "print(df.isna().sum())"
   ]
  },
  {
   "cell_type": "markdown",
   "metadata": {},
   "source": [
    "# Training the model"
   ]
  },
  {
   "cell_type": "markdown",
   "metadata": {},
   "source": [
    "## Defining the model architecture"
   ]
  },
  {
   "cell_type": "code",
   "execution_count": 217,
   "metadata": {},
   "outputs": [],
   "source": [
    "# input with shape of height=40 and width=140 \n",
    "inputs = Input(shape=(40,140,1))\n",
    "\n",
    "# convolution layer with kernel size (3,3)\n",
    "conv_1 = Conv2D(64, (3,3), activation = 'relu', padding='same')(inputs)\n",
    "# poolig layer with kernel size (2,2)\n",
    "pool_1 = MaxPool2D(pool_size=(2, 2), strides=2)(conv_1)\n",
    " \n",
    "conv_2 = Conv2D(128, (3,3), activation = 'relu', padding='same')(pool_1)\n",
    "pool_2 = MaxPool2D(pool_size=(2, 2), strides=2)(conv_2)\n",
    " \n",
    "conv_3 = Conv2D(256, (3,3), activation = 'relu', padding='same')(pool_2)\n",
    " \n",
    "conv_4 = Conv2D(256, (3,3), activation = 'relu', padding='same')(conv_3)\n",
    "# poolig layer with kernel size (2,1)\n",
    "pool_4 = MaxPool2D(pool_size=(2, 1))(conv_4)\n",
    " \n",
    "conv_5 = Conv2D(512, (3,3), activation = 'relu', padding='same')(pool_4)\n",
    "# Batch normalization layer\n",
    "batch_norm_5 = BatchNormalization()(conv_5)\n",
    " \n",
    "conv_6 = Conv2D(512, (3,3), activation = 'relu', padding='same')(batch_norm_5)\n",
    "batch_norm_6 = BatchNormalization()(conv_6)\n",
    "pool_6 = MaxPool2D(pool_size=(2, 1))(batch_norm_6)\n",
    " \n",
    "conv_7 = Conv2D(512, (2,2), activation = 'relu')(pool_6)\n",
    "\n",
    "squeezed = Lambda(lambda x: K.squeeze(x, 1))(conv_7)\n",
    " \n",
    "# bidirectional LSTM layers with units=128\n",
    "blstm_1 = Bidirectional(LSTM(128, return_sequences=True, dropout = 0.2))(squeezed)\n",
    "blstm_2 = Bidirectional(LSTM(128, return_sequences=True, dropout = 0.2))(blstm_1)\n",
    " \n",
    "outputs = Dense(len(char_set)+1, activation = 'softmax')(blstm_2)\n",
    "\n",
    "# model to be used at test time\n",
    "act_model = Model(inputs, outputs)"
   ]
  },
  {
   "cell_type": "code",
   "execution_count": 218,
   "metadata": {},
   "outputs": [
    {
     "name": "stdout",
     "output_type": "stream",
     "text": [
      "Model: \"model_10\"\n",
      "_________________________________________________________________\n",
      " Layer (type)                Output Shape              Param #   \n",
      "=================================================================\n",
      " input_7 (InputLayer)        [(None, 40, 140, 1)]      0         \n",
      "                                                                 \n",
      " conv2d_42 (Conv2D)          (None, 40, 140, 64)       640       \n",
      "                                                                 \n",
      " max_pooling2d_24 (MaxPooli  (None, 20, 70, 64)        0         \n",
      " ng2D)                                                           \n",
      "                                                                 \n",
      " conv2d_43 (Conv2D)          (None, 20, 70, 128)       73856     \n",
      "                                                                 \n",
      " max_pooling2d_25 (MaxPooli  (None, 10, 35, 128)       0         \n",
      " ng2D)                                                           \n",
      "                                                                 \n",
      " conv2d_44 (Conv2D)          (None, 10, 35, 256)       295168    \n",
      "                                                                 \n",
      " conv2d_45 (Conv2D)          (None, 10, 35, 256)       590080    \n",
      "                                                                 \n",
      " max_pooling2d_26 (MaxPooli  (None, 5, 35, 256)        0         \n",
      " ng2D)                                                           \n",
      "                                                                 \n",
      " conv2d_46 (Conv2D)          (None, 5, 35, 512)        1180160   \n",
      "                                                                 \n",
      " batch_normalization_12 (Ba  (None, 5, 35, 512)        2048      \n",
      " tchNormalization)                                               \n",
      "                                                                 \n",
      " conv2d_47 (Conv2D)          (None, 5, 35, 512)        2359808   \n",
      "                                                                 \n",
      " batch_normalization_13 (Ba  (None, 5, 35, 512)        2048      \n",
      " tchNormalization)                                               \n",
      "                                                                 \n",
      " max_pooling2d_27 (MaxPooli  (None, 2, 35, 512)        0         \n",
      " ng2D)                                                           \n",
      "                                                                 \n",
      " conv2d_48 (Conv2D)          (None, 1, 34, 512)        1049088   \n",
      "                                                                 \n",
      " lambda_6 (Lambda)           (None, 34, 512)           0         \n",
      "                                                                 \n",
      " bidirectional_12 (Bidirect  (None, 34, 256)           656384    \n",
      " ional)                                                          \n",
      "                                                                 \n",
      " bidirectional_13 (Bidirect  (None, 34, 256)           394240    \n",
      " ional)                                                          \n",
      "                                                                 \n",
      " dense_6 (Dense)             (None, 34, 36)            9252      \n",
      "                                                                 \n",
      "=================================================================\n",
      "Total params: 6612772 (25.23 MB)\n",
      "Trainable params: 6610724 (25.22 MB)\n",
      "Non-trainable params: 2048 (8.00 KB)\n",
      "_________________________________________________________________\n"
     ]
    }
   ],
   "source": [
    "act_model.summary()"
   ]
  },
  {
   "cell_type": "markdown",
   "metadata": {},
   "source": [
    "### Defining the CTC loss function"
   ]
  },
  {
   "cell_type": "code",
   "execution_count": 219,
   "metadata": {},
   "outputs": [],
   "source": [
    "labels = Input(name='the_labels', shape=[max_label_length], dtype='float32')\n",
    "input_length = Input(name='input_length', shape=[1], dtype='int64')\n",
    "label_length = Input(name='label_length', shape=[1], dtype='int64') \n",
    "\n",
    "def ctc_lambda_func(args):\n",
    "    y_pred, labels, input_length, label_length = args\n",
    " \n",
    "    return K.ctc_batch_cost(labels, y_pred, input_length, label_length)\n",
    " \n",
    " \n",
    "loss_out = Lambda(ctc_lambda_func, output_shape=(1,), name='ctc')([outputs, labels, input_length, label_length])\n",
    "\n",
    "#model to be used at training time\n",
    "model = Model(inputs=[inputs, labels, input_length, label_length], outputs=loss_out)"
   ]
  },
  {
   "cell_type": "code",
   "execution_count": 220,
   "metadata": {},
   "outputs": [],
   "source": [
    "model.compile(loss={'ctc': lambda y_true, y_pred: y_pred}, optimizer = 'adam')\n",
    " \n",
    "filepath = \"weights.hdf5\"\n",
    "checkpoint = ModelCheckpoint(filepath=filepath, monitor='val_loss', verbose=1, save_best_only=True, mode='auto')\n",
    "early = EarlyStopping(monitor='val_loss', patience=8, verbose=1, mode='min')\n",
    "lr = ReduceLROnPlateau(monitor='val_loss', factor=0.1, patience=5, verbose=0, mode='auto', cooldown=0,min_lr=0.000000001)\n",
    "csv = CSVLogger('trainingLossLogFile.csv')\n",
    "callbacks_list = [checkpoint, early, lr, csv]"
   ]
  },
  {
   "cell_type": "markdown",
   "metadata": {},
   "source": [
    "### Input length must be < 34 which is the Dense layer's dimension and the performance is the same for width 40 and width 33"
   ]
  },
  {
   "cell_type": "code",
   "execution_count": null,
   "metadata": {},
   "outputs": [],
   "source": [
    "df['input_length'] = 33\n",
    "train_df, test_df = train_test_split(df, test_size=0.2, random_state=42)\n",
    "\n",
    "\n",
    "# Extract the necessary variables from the training and test DataFrames\n",
    "training_img = np.array(train_df['image'].values.tolist())\n",
    "train_padded_txt = np.array(train_df['padded_labels'].values.tolist())\n",
    "train_input_length = np.array(train_df['input_length'].values.tolist())\n",
    "train_label_length = np.array(train_df['label_length'].values.tolist())\n",
    "\n",
    "test_img = np.array(test_df['image'].values.tolist())\n",
    "test_padded_txt = np.array(test_df['padded_labels'].values.tolist())\n",
    "test_input_length = np.array(test_df['input_length'].values.tolist())\n",
    "test_label_length = np.array(test_df['label_length'].values.tolist())"
   ]
  },
  {
   "cell_type": "markdown",
   "metadata": {},
   "source": [
    "### Training the model"
   ]
  },
  {
   "cell_type": "code",
   "execution_count": 54,
   "metadata": {},
   "outputs": [
    {
     "name": "stdout",
     "output_type": "stream",
     "text": [
      "Epoch 1/10\n",
      "12/12 [==============================] - ETA: 0s - loss: 27.4433\n",
      "Epoch 1: val_loss improved from inf to 14.14427, saving model to old_weights.hdf5\n"
     ]
    },
    {
     "name": "stderr",
     "output_type": "stream",
     "text": [
      "d:\\Anaconda\\Lib\\site-packages\\keras\\src\\engine\\training.py:3000: UserWarning: You are saving your model as an HDF5 file via `model.save()`. This file format is considered legacy. We recommend using instead the native Keras format, e.g. `model.save('my_model.keras')`.\n",
      "  saving_api.save_model(\n"
     ]
    },
    {
     "name": "stdout",
     "output_type": "stream",
     "text": [
      "12/12 [==============================] - 83s 6s/step - loss: 27.4433 - val_loss: 14.1443 - lr: 0.0010\n",
      "Epoch 2/10\n",
      "12/12 [==============================] - ETA: 0s - loss: 13.7873\n",
      "Epoch 2: val_loss improved from 14.14427 to 13.64011, saving model to old_weights.hdf5\n",
      "12/12 [==============================] - 78s 7s/step - loss: 13.7873 - val_loss: 13.6401 - lr: 0.0010\n",
      "Epoch 3/10\n",
      "12/12 [==============================] - ETA: 0s - loss: 13.2067\n",
      "Epoch 3: val_loss did not improve from 13.64011\n",
      "12/12 [==============================] - 73s 6s/step - loss: 13.2067 - val_loss: 13.7626 - lr: 0.0010\n",
      "Epoch 4/10\n",
      "12/12 [==============================] - ETA: 0s - loss: 12.8969\n",
      "Epoch 4: val_loss did not improve from 13.64011\n",
      "12/12 [==============================] - 73s 6s/step - loss: 12.8969 - val_loss: 13.9026 - lr: 0.0010\n",
      "Epoch 5/10\n",
      "12/12 [==============================] - ETA: 0s - loss: 12.7254\n",
      "Epoch 5: val_loss did not improve from 13.64011\n",
      "12/12 [==============================] - 74s 6s/step - loss: 12.7254 - val_loss: 14.0216 - lr: 0.0010\n",
      "Epoch 6/10\n",
      "12/12 [==============================] - ETA: 0s - loss: 12.5925\n",
      "Epoch 6: val_loss did not improve from 13.64011\n",
      "12/12 [==============================] - 73s 6s/step - loss: 12.5925 - val_loss: 14.1494 - lr: 0.0010\n",
      "Epoch 7/10\n",
      "12/12 [==============================] - ETA: 0s - loss: 12.4624\n",
      "Epoch 7: val_loss did not improve from 13.64011\n",
      "12/12 [==============================] - 72s 6s/step - loss: 12.4624 - val_loss: 14.4328 - lr: 0.0010\n",
      "Epoch 8/10\n",
      "12/12 [==============================] - ETA: 0s - loss: 12.3672\n",
      "Epoch 8: val_loss did not improve from 13.64011\n",
      "12/12 [==============================] - 70s 6s/step - loss: 12.3672 - val_loss: 14.4526 - lr: 1.0000e-04\n",
      "Epoch 9/10\n",
      "12/12 [==============================] - ETA: 0s - loss: 12.3469\n",
      "Epoch 9: val_loss did not improve from 13.64011\n",
      "12/12 [==============================] - 70s 6s/step - loss: 12.3469 - val_loss: 14.3638 - lr: 1.0000e-04\n",
      "Epoch 10/10\n",
      "12/12 [==============================] - ETA: 0s - loss: 12.3082\n",
      "Epoch 10: val_loss did not improve from 13.64011\n",
      "12/12 [==============================] - 73s 6s/step - loss: 12.3082 - val_loss: 14.1091 - lr: 1.0000e-04\n",
      "Epoch 10: early stopping\n"
     ]
    },
    {
     "data": {
      "text/plain": [
       "<keras.src.callbacks.History at 0x14e0d3497d0>"
      ]
     },
     "execution_count": 54,
     "metadata": {},
     "output_type": "execute_result"
    }
   ],
   "source": [
    "batch_size = 256\n",
    "epochs = 10\n",
    "model.fit(x=[training_img, train_padded_txt, train_input_length, train_label_length], y=np.zeros(len(training_img)), batch_size=batch_size, epochs = epochs, validation_data = ([test_img, test_padded_txt, test_input_length, test_label_length], [np.zeros(len(test_img))]), verbose = 1, callbacks = callbacks_list)\n"
   ]
  },
  {
   "cell_type": "markdown",
   "metadata": {},
   "source": [
    "## Loading the weights and testing the model"
   ]
  },
  {
   "cell_type": "code",
   "execution_count": 171,
   "metadata": {},
   "outputs": [],
   "source": [
    "act_model.load_weights(\"./djangoapp/api/model/model_weights/working_old_weights.hdf5\")"
   ]
  },
  {
   "cell_type": "code",
   "execution_count": 188,
   "metadata": {},
   "outputs": [],
   "source": [
    "predict = normalized_images[0]\n",
    "inputsss = np.array(predict)"
   ]
  },
  {
   "cell_type": "code",
   "execution_count": 199,
   "metadata": {},
   "outputs": [
    {
     "name": "stdout",
     "output_type": "stream",
     "text": [
      "(40, 140, 1)\n"
     ]
    }
   ],
   "source": [
    "print(normalized_images[0].shape)"
   ]
  },
  {
   "cell_type": "code",
   "execution_count": 197,
   "metadata": {},
   "outputs": [
    {
     "name": "stdout",
     "output_type": "stream",
     "text": [
      "1/1 [==============================] - 0s 46ms/step\n"
     ]
    }
   ],
   "source": [
    "prediction = act_model.predict(np.expand_dims(normalized_images[0], axis=0))  # This adds the batch dimension\n",
    "out = K.get_value(K.ctc_decode(prediction, input_length=np.ones(prediction.shape[0])*prediction.shape[1],\n",
    "greedy=True)[0][0])"
   ]
  },
  {
   "cell_type": "code",
   "execution_count": 200,
   "metadata": {},
   "outputs": [
    {
     "name": "stdout",
     "output_type": "stream",
     "text": [
      "original_text =   ['ء' 'ا' 'ر' 'س' 'ا']\n",
      "predicted text = ['ى' 'ا' 'ب' 'ا']\n",
      "\n",
      "\n"
     ]
    }
   ],
   "source": [
    "i = 0\n",
    "for x in out:\n",
    "    print(\"original_text =  \", char_encoder.inverse_transform(df['encoded_labels'][i]))\n",
    "    print(\"predicted text = \", end = '')\n",
    "    x  = [y for y in x if y != -1]\n",
    "    decoded_sequence = char_encoder.inverse_transform(x)\n",
    "    print(decoded_sequence)\n",
    "    print('\\n')\n",
    "    i+=1"
   ]
  },
  {
   "cell_type": "markdown",
   "metadata": {},
   "source": [
    "## Since the training data is limited, it's better to train using cross-validation"
   ]
  }
 ],
 "metadata": {
  "kernelspec": {
   "display_name": "base",
   "language": "python",
   "name": "python3"
  },
  "language_info": {
   "codemirror_mode": {
    "name": "ipython",
    "version": 3
   },
   "file_extension": ".py",
   "mimetype": "text/x-python",
   "name": "python",
   "nbconvert_exporter": "python",
   "pygments_lexer": "ipython3",
   "version": "3.11.5"
  }
 },
 "nbformat": 4,
 "nbformat_minor": 2
}
